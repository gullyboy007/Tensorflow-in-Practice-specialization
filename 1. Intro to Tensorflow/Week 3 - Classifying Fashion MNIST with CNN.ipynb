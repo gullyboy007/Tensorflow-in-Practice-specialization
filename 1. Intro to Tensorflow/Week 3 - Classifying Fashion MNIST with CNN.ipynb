{
 "cells": [
  {
   "cell_type": "markdown",
   "metadata": {
    "colab_type": "text",
    "id": "iQjHqsmTAVLU"
   },
   "source": [
    "## Exercise 3\n",
    "In the videos you looked at how you would improve Fashion MNIST using Convolutions. For your exercise see if you can improve MNIST to 99.8% accuracy or more using only a single convolutional layer and a single MaxPooling 2D. You should stop training once the accuracy goes above this amount. It should happen in less than 20 epochs, so it's ok to hard code the number of epochs for training, but your training must end once it hits the above metric. If it doesn't, then you'll need to redesign your layers.\n",
    "\n",
    "When 99.8% accuracy has been hit, you should print out the string \"Reached 99.8% accuracy so cancelling training!\"\n"
   ]
  },
  {
   "cell_type": "code",
   "execution_count": 3,
   "metadata": {
    "colab": {
     "base_uri": "https://localhost:8080/",
     "height": 408
    },
    "colab_type": "code",
    "id": "sfQRyaJWAIdg",
    "outputId": "387c31c8-2ccb-48c4-94d5-92d8ece8577a"
   },
   "outputs": [
    {
     "name": "stdout",
     "output_type": "stream",
     "text": [
      "Train on 60000 samples\n",
      "Epoch 1/20\n",
      "60000/60000 [==============================] - 50s 829us/sample - loss: 0.1657 - acc: 0.9498\n",
      "Epoch 2/20\n",
      "60000/60000 [==============================] - 50s 829us/sample - loss: 0.0527 - acc: 0.9837\n",
      "Epoch 3/20\n",
      "60000/60000 [==============================] - 50s 826us/sample - loss: 0.0347 - acc: 0.9890\n",
      "Epoch 4/20\n",
      "60000/60000 [==============================] - 50s 827us/sample - loss: 0.0235 - acc: 0.9927\n",
      "Epoch 5/20\n",
      "60000/60000 [==============================] - 50s 827us/sample - loss: 0.0174 - acc: 0.9944\n",
      "Epoch 6/20\n",
      "60000/60000 [==============================] - 50s 837us/sample - loss: 0.0127 - acc: 0.9959\n",
      "Epoch 7/20\n",
      "60000/60000 [==============================] - 50s 839us/sample - loss: 0.0104 - acc: 0.9966\n",
      "Epoch 8/20\n",
      "60000/60000 [==============================] - 50s 834us/sample - loss: 0.0082 - acc: 0.9973\n",
      "Epoch 9/20\n",
      "60000/60000 [==============================] - 50s 839us/sample - loss: 0.0073 - acc: 0.9976\n",
      "Epoch 10/20\n",
      "59968/60000 [============================>.] - ETA: 0s - loss: 0.0058 - acc: 0.9980\n",
      " 99% acc reached\n",
      "60000/60000 [==============================] - 50s 833us/sample - loss: 0.0058 - acc: 0.9980\n"
     ]
    },
    {
     "data": {
      "text/plain": [
       "<tensorflow.python.keras.callbacks.History at 0x15847901648>"
      ]
     },
     "execution_count": 3,
     "metadata": {},
     "output_type": "execute_result"
    }
   ],
   "source": [
    "import tensorflow as tf\n",
    "\n",
    "class CustomCallbacks(tf.keras.callbacks.Callback):\n",
    "    def on_epoch_end(self, epoch, logs={}):\n",
    "        if(logs.get('acc')>0.998):\n",
    "            print(\"\\n 99% acc reached\")\n",
    "            self.model.stop_training = True\n",
    "\n",
    "\n",
    "def preprocess_images(image_set):\n",
    "    image_set = image_set.reshape(-1, 28, 28, 1)\n",
    "    image_set = image_set / 255.0\n",
    "    return image_set\n",
    "\n",
    "\n",
    "mnist = tf.keras.datasets.mnist\n",
    "(training_images, training_labels), (test_images, test_labels) = mnist.load_data()\n",
    "\n",
    "training_images = preprocess_images(training_images)\n",
    "test_images = preprocess_images(test_images)\n",
    "\n",
    "model = tf.keras.models.Sequential([\n",
    "    tf.keras.layers.Conv2D(64, (3, 3), activation='relu', input_shape=(28,28,1)),\n",
    "    tf.keras.layers.MaxPooling2D(2, 2),\n",
    "    tf.keras.layers.Flatten(),\n",
    "    tf.keras.layers.Dense(128, activation='relu'),\n",
    "    tf.keras.layers.Dense(64, activation='relu'),\n",
    "    tf.keras.layers.Dense(10, activation='softmax')\n",
    "])\n",
    "\n",
    "model.compile(\n",
    "    optimizer='adam',\n",
    "    loss='sparse_categorical_crossentropy',\n",
    "    metrics=['accuracy']\n",
    ")\n",
    "\n",
    "model.fit(\n",
    "    training_images,\n",
    "    training_labels,\n",
    "    batch_size=64,\n",
    "    epochs=20,\n",
    "    callbacks=[CustomCallbacks()]\n",
    ")"
   ]
  },
  {
   "cell_type": "code",
   "execution_count": null,
   "metadata": {},
   "outputs": [],
   "source": []
  }
 ],
 "metadata": {
  "accelerator": "GPU",
  "colab": {
   "collapsed_sections": [],
   "name": "Exercise 3 - Question.ipynb",
   "provenance": [],
   "version": "0.3.2"
  },
  "kernelspec": {
   "display_name": "Python 3",
   "language": "python",
   "name": "python3"
  },
  "language_info": {
   "codemirror_mode": {
    "name": "ipython",
    "version": 3
   },
   "file_extension": ".py",
   "mimetype": "text/x-python",
   "name": "python",
   "nbconvert_exporter": "python",
   "pygments_lexer": "ipython3",
   "version": "3.7.6"
  }
 },
 "nbformat": 4,
 "nbformat_minor": 1
}
